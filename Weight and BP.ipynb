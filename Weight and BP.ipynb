{
  "nbformat": 4,
  "nbformat_minor": 0,
  "metadata": {
    "colab": {
      "name": "Untitled4.ipynb",
      "provenance": [],
      "authorship_tag": "ABX9TyNBmyEf913Iginfax1aHrB3",
      "include_colab_link": true
    },
    "kernelspec": {
      "name": "python3",
      "display_name": "Python 3"
    },
    "language_info": {
      "name": "python"
    }
  },
  "cells": [
    {
      "cell_type": "markdown",
      "metadata": {
        "id": "view-in-github",
        "colab_type": "text"
      },
      "source": [
        "<a href=\"https://colab.research.google.com/github/PPTF/ttdata-healthai/blob/main/Weight%20and%20BP.ipynb\" target=\"_parent\"><img src=\"https://colab.research.google.com/assets/colab-badge.svg\" alt=\"Open In Colab\"/></a>"
      ]
    },
    {
      "cell_type": "code",
      "metadata": {
        "colab": {
          "base_uri": "https://localhost:8080/",
          "height": 53
        },
        "id": "l7RQJR96H5dV",
        "outputId": "9efdfd2c-8d83-4931-f318-05db020e66d8"
      },
      "source": [
        "# weight\n",
        "weight = float(input())\n",
        "\n",
        "def WeightLevel(weight):\n",
        "  if weight < 60 or weight > 500:\n",
        "    return 'potential error input'\n",
        "  elif 60 <= weight < 200:\n",
        "    return 'normal'\n",
        "  elif 200<= weight < 300:\n",
        "    return 'elevated'\n",
        "  else:\n",
        "    return 'abnormal high'\n",
        "\n",
        "WeightLevel(weight)"
      ],
      "execution_count": 6,
      "outputs": [
        {
          "output_type": "stream",
          "text": [
            "70\n"
          ],
          "name": "stdout"
        },
        {
          "output_type": "execute_result",
          "data": {
            "application/vnd.google.colaboratory.intrinsic+json": {
              "type": "string"
            },
            "text/plain": [
              "'normal'"
            ]
          },
          "metadata": {
            "tags": []
          },
          "execution_count": 6
        }
      ]
    },
    {
      "cell_type": "code",
      "metadata": {
        "colab": {
          "base_uri": "https://localhost:8080/",
          "height": 35
        },
        "id": "eX8sjRHkKjaY",
        "outputId": "57ba9c45-200f-43c9-a750-ca808d712b17"
      },
      "source": [
        "WeightLevel(250) \n"
      ],
      "execution_count": 7,
      "outputs": [
        {
          "output_type": "execute_result",
          "data": {
            "application/vnd.google.colaboratory.intrinsic+json": {
              "type": "string"
            },
            "text/plain": [
              "'elevated'"
            ]
          },
          "metadata": {
            "tags": []
          },
          "execution_count": 7
        }
      ]
    },
    {
      "cell_type": "code",
      "metadata": {
        "colab": {
          "base_uri": "https://localhost:8080/",
          "height": 53
        },
        "id": "UCZq0cfHLXHR",
        "outputId": "77f393b7-a8fd-4bf3-b577-932de239f8c3"
      },
      "source": [
        "# SYSTOLIC BP\n",
        "SystolicBP= float(input())\n",
        "\n",
        "def SystolicBPLevel(SystolicBP):\n",
        "  if SystolicBP < 60 or SystolicBP > 200:\n",
        "    return 'potential error input'\n",
        "  elif 60 <= SystolicBP < 120:\n",
        "    return 'normal'\n",
        "  elif 120<= SystolicBP < 140:\n",
        "    return 'elevated'\n",
        "  else:\n",
        "    return 'abnormal high'\n",
        "\n",
        "SystolicBPLevel(SystolicBP)"
      ],
      "execution_count": 8,
      "outputs": [
        {
          "output_type": "stream",
          "text": [
            "80\n"
          ],
          "name": "stdout"
        },
        {
          "output_type": "execute_result",
          "data": {
            "application/vnd.google.colaboratory.intrinsic+json": {
              "type": "string"
            },
            "text/plain": [
              "'normal'"
            ]
          },
          "metadata": {
            "tags": []
          },
          "execution_count": 8
        }
      ]
    },
    {
      "cell_type": "code",
      "metadata": {
        "colab": {
          "base_uri": "https://localhost:8080/",
          "height": 35
        },
        "id": "ye5F6FPGyXdn",
        "outputId": "e5d12350-227f-408a-9414-e4f019f64603"
      },
      "source": [
        "SystolicBPLevel(150)"
      ],
      "execution_count": 3,
      "outputs": [
        {
          "output_type": "execute_result",
          "data": {
            "application/vnd.google.colaboratory.intrinsic+json": {
              "type": "string"
            },
            "text/plain": [
              "'abnormal high'"
            ]
          },
          "metadata": {
            "tags": []
          },
          "execution_count": 3
        }
      ]
    },
    {
      "cell_type": "code",
      "metadata": {
        "colab": {
          "base_uri": "https://localhost:8080/",
          "height": 53
        },
        "id": "aP669bcmyjB9",
        "outputId": "6dec5ac3-6f56-4c1a-b8cc-698a8bca15f0"
      },
      "source": [
        "# DISTOLIC BP\n",
        "DistolicBP= float(input())\n",
        "\n",
        "def DistolicBPLevel(DistolicBP):\n",
        "  if DistolicBP < 40 or DistolicBP > 120:\n",
        "    return 'potential error input'\n",
        "  elif 40 <= DistolicBP < 80:\n",
        "    return 'normal'\n",
        "  elif 80<= DistolicBP < 90:\n",
        "    return 'elevated'\n",
        "  else:\n",
        "    return 'abnormal high'\n",
        "\n",
        "DistolicBPLevel(DistolicBP)"
      ],
      "execution_count": 9,
      "outputs": [
        {
          "output_type": "stream",
          "text": [
            "70\n"
          ],
          "name": "stdout"
        },
        {
          "output_type": "execute_result",
          "data": {
            "application/vnd.google.colaboratory.intrinsic+json": {
              "type": "string"
            },
            "text/plain": [
              "'normal'"
            ]
          },
          "metadata": {
            "tags": []
          },
          "execution_count": 9
        }
      ]
    },
    {
      "cell_type": "code",
      "metadata": {
        "colab": {
          "base_uri": "https://localhost:8080/",
          "height": 35
        },
        "id": "LF73oQBBy863",
        "outputId": "02f16378-764b-4aaf-b76a-6748b104d932"
      },
      "source": [
        "DistolicBPLevel(70)"
      ],
      "execution_count": 10,
      "outputs": [
        {
          "output_type": "execute_result",
          "data": {
            "application/vnd.google.colaboratory.intrinsic+json": {
              "type": "string"
            },
            "text/plain": [
              "'normal'"
            ]
          },
          "metadata": {
            "tags": []
          },
          "execution_count": 10
        }
      ]
    }
  ]
}